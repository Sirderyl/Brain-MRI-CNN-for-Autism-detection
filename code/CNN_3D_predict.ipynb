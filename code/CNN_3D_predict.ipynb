{
 "cells": [
  {
   "cell_type": "markdown",
   "metadata": {},
   "source": [
    "### Load the model"
   ]
  },
  {
   "cell_type": "code",
   "execution_count": 1,
   "metadata": {},
   "outputs": [],
   "source": [
    "import torch\n",
    "from Custom_CNN import Simple3DRegressionCNN\n",
    "from collections import OrderedDict\n",
    "\n",
    "checkpoint = torch.load('models/best_model.pt')\n",
    "model = Simple3DRegressionCNN()\n",
    "key_mapping = {\n",
    "    \"conv1.weight\": \"group1.0.weight\",\n",
    "    \"conv1.bias\": \"group1.0.bias\",\n",
    "    \"conv2.weight\": \"group2.0.weight\",\n",
    "    \"conv2.bias\": \"group2.0.bias\",\n",
    "    \"fc1.weight\": \"fc1.0.weight\",\n",
    "    \"fc1.bias\": \"fc1.0.bias\",\n",
    "    \"fc2.weight\": \"fc2.0.weight\",\n",
    "    \"fc2.bias\": \"fc2.0.bias\",\n",
    "    \"fc3.weight\": \"fc.0.weight\",\n",
    "    \"fc3.bias\": \"fc.0.bias\"\n",
    "}\n",
    "# Create a new state dictionary with the updated keys\n",
    "new_state_dict = OrderedDict()\n",
    "for k, v in checkpoint.items():\n",
    "    if k in key_mapping:\n",
    "        new_state_dict[key_mapping[k]] = v\n",
    "    else:\n",
    "        new_state_dict[k] = v\n",
    "\n",
    "# Load the new state dictionary into the model\n",
    "model.load_state_dict(new_state_dict, strict=False)\n",
    "\n",
    "model.eval() # Set the model to evaluation mode\n",
    "\n",
    "device = torch.device('cpu')\n",
    "model = model.to(device)"
   ]
  },
  {
   "cell_type": "code",
   "execution_count": 2,
   "metadata": {},
   "outputs": [],
   "source": [
    "import nibabel as nib\n",
    "import numpy as np\n",
    "from skimage.measure import block_reduce\n",
    "\n",
    "def load_nifti(img_path):\n",
    "    img_nii = nib.load(img_path)\n",
    "    img_np = img_nii.get_fdata()\n",
    "    img_np = img_np.astype(np.float32)\n",
    "\n",
    "    img_np = block_reduce(img_np, (2, 2, 2), np.mean)\n",
    "\n",
    "    img_np = np.expand_dims(img_np, axis=0)\n",
    "    img_np = np.expand_dims(img_np, axis=0)\n",
    "\n",
    "    # Convert to tensor\n",
    "    img_tensor = torch.from_numpy(img_np)\n",
    "\n",
    "    return img_tensor"
   ]
  },
  {
   "cell_type": "code",
   "execution_count": 4,
   "metadata": {},
   "outputs": [
    {
     "name": "stdout",
     "output_type": "stream",
     "text": [
      "Predicted label: 69.39547729492188\n"
     ]
    }
   ],
   "source": [
    "def predict(model, img_tensor):\n",
    "    with torch.no_grad():\n",
    "        outputs = model(img_tensor)\n",
    "        label = outputs.item()\n",
    "    return label\n",
    "\n",
    "sub = 'sub-CC00113XX06'\n",
    "ses = 'ses-37200'\n",
    "img_path = f'../tor/rel3_dhcp_anat_pipeline/{sub}/{ses}/anat/{sub}_{ses}_T2w.nii.gz'\n",
    "img_tensor = load_nifti(img_path)\n",
    "label = predict(model, img_tensor)\n",
    "print(f'Predicted label: {label}')"
   ]
  }
 ],
 "metadata": {
  "kernelspec": {
   "display_name": "Python 3",
   "language": "python",
   "name": "python3"
  },
  "language_info": {
   "codemirror_mode": {
    "name": "ipython",
    "version": 3
   },
   "file_extension": ".py",
   "mimetype": "text/x-python",
   "name": "python",
   "nbconvert_exporter": "python",
   "pygments_lexer": "ipython3",
   "version": "3.8.10"
  }
 },
 "nbformat": 4,
 "nbformat_minor": 2
}
