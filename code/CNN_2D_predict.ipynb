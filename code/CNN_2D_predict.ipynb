{
 "cells": [
  {
   "cell_type": "markdown",
   "metadata": {},
   "source": [
    "### Load the model"
   ]
  },
  {
   "cell_type": "code",
   "execution_count": 8,
   "metadata": {},
   "outputs": [],
   "source": [
    "import torch\n",
    "import torch.nn as nn\n",
    "import torchvision.models as models\n",
    "\n",
    "checkpoint = torch.load('models/best_model.pt')\n",
    "model = models.resnet18()\n",
    "model.conv1 = nn.Conv2d(in_channels=1, out_channels=64, kernel_size=(7, 7))\n",
    "model.fc = nn.Linear(in_features=model.fc.in_features, out_features=1)\n",
    "model.load_state_dict(checkpoint['model_state_dict'])\n",
    "model.eval() # Set the model to evaluation mode\n",
    "\n",
    "device = torch.device('cuda' if torch.cuda.is_available() else 'cpu')\n",
    "model = model.to(device)"
   ]
  },
  {
   "cell_type": "code",
   "execution_count": 12,
   "metadata": {},
   "outputs": [],
   "source": [
    "import nibabel as nib\n",
    "import numpy as np\n",
    "from skimage.measure import block_reduce\n",
    "\n",
    "def load_nifti(img_path):\n",
    "    img_nii = nib.load(img_path)\n",
    "    img_np = img_nii.get_fdata()\n",
    "    img_np = img_np.astype(np.float32)\n",
    "\n",
    "    # Slice the 3D image along the depth dimension\n",
    "    num_slices = img_np.shape[0]\n",
    "    slices = []\n",
    "    pool_size = 10 # For avg/max pooling to reduce the number of slices (GPU memory issue)\n",
    "    for i in range(0, num_slices, pool_size):\n",
    "        slice_3d = img_np[i:i+pool_size, :, :] # Get a 3D block\n",
    "        slice_2d = block_reduce(slice_3d, (pool_size, 1, 1), np.mean) # Apply avg pooling\n",
    "        slices.append(slice_2d)\n",
    "        \n",
    "    # Stack the slices along the batch dimension\n",
    "    img_np_stacked = np.stack(slices, axis=0)\n",
    "\n",
    "    # Convert to tensor\n",
    "    img_tensor = torch.from_numpy(img_np_stacked)\n",
    "\n",
    "    return img_tensor"
   ]
  },
  {
   "cell_type": "code",
   "execution_count": 13,
   "metadata": {},
   "outputs": [
    {
     "name": "stdout",
     "output_type": "stream",
     "text": [
      "Predicted label: 32.233299255371094\n"
     ]
    }
   ],
   "source": [
    "def predict(model, img_tensor):\n",
    "    with torch.no_grad():\n",
    "        outputs = model(img_tensor)\n",
    "        label = outputs.argmax().item()\n",
    "    return label\n",
    "\n",
    "img_path = '../tor/rel3_dhcp_anat_pipeline/sub-CC00251XX04/ses-83800/anat/sub-CC00251XX04_ses-83800_T2w.nii.gz' # Should be 19\n",
    "img_tensor = load_nifti(img_path)\n",
    "img_tensor = img_tensor.to(device)\n",
    "label = predict(model, img_tensor)\n",
    "print(f'Predicted label: {label}')"
   ]
  }
 ],
 "metadata": {
  "kernelspec": {
   "display_name": "Python 3",
   "language": "python",
   "name": "python3"
  },
  "language_info": {
   "codemirror_mode": {
    "name": "ipython",
    "version": 3
   },
   "file_extension": ".py",
   "mimetype": "text/x-python",
   "name": "python",
   "nbconvert_exporter": "python",
   "pygments_lexer": "ipython3",
   "version": "3.8.10"
  }
 },
 "nbformat": 4,
 "nbformat_minor": 2
}
